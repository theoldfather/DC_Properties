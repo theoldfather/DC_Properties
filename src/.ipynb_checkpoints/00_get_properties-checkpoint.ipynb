{
 "cells": [
  {
   "cell_type": "markdown",
   "metadata": {},
   "source": [
    "# DC Properties"
   ]
  },
  {
   "cell_type": "code",
   "execution_count": 1,
   "metadata": {
    "collapsed": false
   },
   "outputs": [],
   "source": [
    "import os\n",
    "import mechanize\n",
    "from bs4 import BeautifulSoup as soup\n",
    "import json\n",
    "import pandas as pd\n",
    "import re\n",
    "\n",
    "\n",
    "def clean_str(s):\n",
    "    txt =  s.replace(\"\\n\",\" \").replace(\"\\t\",\"\").strip().encode(\"utf-8\",\"ignore\")\n",
    "    txt = txt.replace(\"\\r\",\" \")\n",
    "    txt = re.sub(r'\\xc2|\\xa0',' ',txt)\n",
    "    return txt\n",
    "\n",
    "def reduce_spaces(s):\n",
    "    return re.sub(\"[ ]{2,}\",\" \",s)\n",
    "\n",
    "def saveWardSales(ward=1,page=1,verbose=False):\n",
    "    last_page=999\n",
    "    page_dfs=[]\n",
    "    header = [\"ssl\",\"premise_address\",\"owner_name\",\"neighborhood\",\"sub_neighborhood\",\"use_code\",\n",
    "              \"sale_price\",\"recordation_date\",\"total_assessment\"]\n",
    "    br = mechanize.Browser()    \n",
    "    while page <= last_page:\n",
    "        if verbose and page % 10==0: print \"processing page %d\" % page\n",
    "        if page==1:\n",
    "            br.open(\"https://www.taxpayerservicecenter.com/RP_Results.jsp?search_type=Sales\")\n",
    "            br.select_form(name=\"SearchForm\")\n",
    "            br[\"selectWard\"]=[str(ward)]\n",
    "            resp = br.submit()\n",
    "            html = soup(resp.read(),\"html.parser\")\n",
    "\n",
    "            # set the number of pages to crawl for this ward\n",
    "            href=html.find(\"a\",text=\"last\").attrs['href']\n",
    "            m=re.search(r\"page=([0-9]*)\",href)\n",
    "            last_page = int(m.group(1))\n",
    "        else:\n",
    "            resp=br.open(\"https://www.taxpayerservicecenter.com/RP_Results.jsp?page=%d\"%page)\n",
    "            html = soup(resp.read(),\"html.parser\")    \n",
    "\n",
    "        table = html.find(\"table\",attrs={\"class\":\"\",\"border\":\"0\",\"cellpadding\":4,\"cellspacing\":2})\n",
    "        i = 0\n",
    "        rows=list()\n",
    "        for tr in table.find_all(\"tr\"):  \n",
    "            if i>0:\n",
    "                row = [clean_str(td.text) for td in tr.find_all(\"td\")]\n",
    "                values = row\n",
    "                row = { e[0]:e[1] for e in zip(header,values) }                \n",
    "                rows.append(row)\n",
    "            i+=1\n",
    "        page_dfs.append(pd.DataFrame(rows,dtype=str))\n",
    "        page += 1\n",
    "\n",
    "    ward_df = pd.concat(page_dfs,ignore_index=True)\n",
    "    ward_df.to_csv(\"ward%d.csv\" % (ward),index=False)\n",
    "    return ward_df\n",
    "\n",
    "def getDetails(ssl,br=None):\n",
    "    if br is None:\n",
    "        br = mechanize.Browser() \n",
    "        br.open(\"https://www.taxpayerservicecenter.com/RP_Results.jsp?search_type=Sales\")\n",
    "    resp = br.open(\"https://www.taxpayerservicecenter.com/RP_Detail.jsp?ssl=%s\" % (ssl.replace(\" \",'%20')))\n",
    "    html= soup(resp.read(),\"html.parser\")\n",
    "    tables = html.find_all(\"table\",attrs={\"cellspacing\":\"2\"})\n",
    "    items = {\"ssl\":ssl}\n",
    "    if tables>0:\n",
    "        for table in tables[:3]:    \n",
    "            for tr in table.find_all(\"tr\"):\n",
    "                capture_next=False\n",
    "                for td in tr.find_all(\"td\"):\n",
    "                    if not capture_next:\n",
    "                        capture_next = not (re.search(\":\",td.text) is None)\n",
    "                        label=td.text.replace(\":\",\"\")\n",
    "                    else:\n",
    "                        value = reduce_spaces(clean_str(td.text))\n",
    "                        value = value.replace(\"; \",\" \")\n",
    "                        items.update({label:value})\n",
    "                        capture_next=False\n",
    "    return items\n",
    "\n",
    "def getFeatures(ssl,br=None):\n",
    "    if br is None:\n",
    "        br = mechanize.Browser() \n",
    "        br.open(\"https://www.taxpayerservicecenter.com/RP_Results.jsp?search_type=Sales\")\n",
    "    resp = br.open(\"https://www.taxpayerservicecenter.com/weblogic/CAMA?ssl=%s\" % (ssl.replace(\" \",'%20')))\n",
    "    html= soup(resp.read(),\"html.parser\")\n",
    "    tables = html.find_all(\"table\",attrs={\"cellspacing\":\"2\",\"cellpadding\":\"2\",\"align\":\"left\"})\n",
    "    items = {\"ssl\":ssl}\n",
    "    if tables>0:\n",
    "        for table in tables[:3]:    \n",
    "            for tr in table.find_all(\"tr\"):\n",
    "                capture_next=False\n",
    "                for td in tr.find_all(\"td\"):\n",
    "                    if not capture_next:                        \n",
    "                        label=td.text\n",
    "                        capture_next=True\n",
    "                    else:\n",
    "                        value = reduce_spaces(clean_str(td.text))\n",
    "                        value = value.replace(\"; \",\" \")\n",
    "                        items.update({label:value})\n",
    "                        capture_next=False\n",
    "    return items\n",
    "\n",
    "def mapSave(f,ssls,filename,chunk_size=100,resume=True):\n",
    "    br = mechanize.Browser() \n",
    "    br.open(\"https://www.taxpayerservicecenter.com/RP_Results.jsp?search_type=Sales\")\n",
    "    dfs=list()\n",
    "    if os.path.exists(filename) and resume:\n",
    "        prev = pd.read_csv(filename)\n",
    "        dfs.append(prev)\n",
    "        ssls = list(set(ssls).difference(set(prev['ssl'])))\n",
    "    i=0\n",
    "    chunk = ssls[i*chunk_size:(i+1)*chunk_size]\n",
    "    while len(chunk)>0:\n",
    "        dfs.append(pd.DataFrame([f(c,br) for c in chunk]))\n",
    "        pd.concat(dfs,ignore_index=True).to_csv(filename,index=False)\n",
    "        i += 1\n",
    "        chunk = ssls[i*chunk_size:(i+1)*chunk_size]\n",
    "\n",
    "class Status(object):\n",
    "    \n",
    "    def __init__(self,iterable):\n",
    "        self.n = float(len(iterable))\n",
    "        self.i = 0\n",
    "        \n",
    "    def pprint(self,every=100):\n",
    "        if self.i % every == 0: print \"completed %02.4f%%\" % (self.i/self.n)\n",
    "        self.i += 1\n",
    "        return True\n",
    "\n",
    "    "
   ]
  },
  {
   "cell_type": "code",
   "execution_count": 66,
   "metadata": {
    "collapsed": false
   },
   "outputs": [
    {
     "name": "stdout",
     "output_type": "stream",
     "text": [
      "processing ward 1\n",
      "processing ward 2\n",
      "processing ward 3\n",
      "processing ward 4\n",
      "processing ward 5\n",
      "processing ward 6\n",
      "processing ward 7\n",
      "processing ward 8\n"
     ]
    }
   ],
   "source": [
    "# search by ward\n",
    "sales = list()\n",
    "for ward in range(1,9):\n",
    "    print \"processing ward %d\" % ward\n",
    "    sales.append(saveWardSales(ward=ward))\n",
    "\n"
   ]
  },
  {
   "cell_type": "code",
   "execution_count": 72,
   "metadata": {
    "collapsed": false
   },
   "outputs": [],
   "source": [
    "all_wards = pd.concat(sales,ignore_index=True)\n",
    "all_wards.to_csv(\"sales.csv\",index=False)"
   ]
  },
  {
   "cell_type": "code",
   "execution_count": 199,
   "metadata": {
    "collapsed": false
   },
   "outputs": [],
   "source": []
  },
  {
   "cell_type": "code",
   "execution_count": 196,
   "metadata": {
    "collapsed": true
   },
   "outputs": [
    {
     "name": "stdout",
     "output_type": "stream",
     "text": [
      "completed 0.00%\n"
     ]
    }
   ],
   "source": [
    "all_wards = pd.read_csv(\"sales.csv\")\n",
    "ssls=all_wards['ssl']\n",
    "n=len(ssl)\n",
    "i=0\n",
    "br = mechanize.Browser() \n",
    "br.open(\"https://www.taxpayerservicecenter.com/RP_Results.jsp?search_type=Sales\")\n",
    "ssls = ssls[:50]\n",
    "s = Status(ssls)\n",
    "details = [ getDetails(ssl,br) for ssl in ssls if s.pprint(200) ]    "
   ]
  },
  {
   "cell_type": "code",
   "execution_count": 197,
   "metadata": {
    "collapsed": false
   },
   "outputs": [],
   "source": [
    "pd.DataFrame(details,dtype=str).to_csv(\"details.csv\",index=False)"
   ]
  },
  {
   "cell_type": "code",
   "execution_count": 198,
   "metadata": {
    "collapsed": false
   },
   "outputs": [
    {
     "data": {
      "text/plain": [
       "0           1701 V ST NW WASHINGTON DC20009-2610\n",
       "1           PO BOX 34181 WASHINGTON DC20043-4181\n",
       "2    1702 FLORIDA AVE NW WASHINGTON DC20009-2622\n",
       "3           2119 R ST NW WASHINGTON DC20008-1908\n",
       "4     912 ALABAMA AVE SE WASHINGTON DC20032-4247\n",
       "Name: Mailing Address, dtype: object"
      ]
     },
     "execution_count": 198,
     "metadata": {},
     "output_type": "execute_result"
    }
   ],
   "source": [
    "pd.DataFrame(details,dtype=str)['Mailing Address'][:5]"
   ]
  },
  {
   "cell_type": "code",
   "execution_count": 2,
   "metadata": {
    "collapsed": false
   },
   "outputs": [
    {
     "ename": "NameError",
     "evalue": "global name 'obj' is not defined",
     "output_type": "error",
     "traceback": [
      "\u001b[0;31m---------------------------------------------------------------------------\u001b[0m",
      "\u001b[0;31mNameError\u001b[0m                                 Traceback (most recent call last)",
      "\u001b[0;32m<ipython-input-2-5eee664ac5bb>\u001b[0m in \u001b[0;36m<module>\u001b[0;34m()\u001b[0m\n\u001b[1;32m      1\u001b[0m \u001b[0mall_wards\u001b[0m \u001b[0;34m=\u001b[0m \u001b[0mpd\u001b[0m\u001b[0;34m.\u001b[0m\u001b[0mread_csv\u001b[0m\u001b[0;34m(\u001b[0m\u001b[0;34m\"sales.csv\"\u001b[0m\u001b[0;34m)\u001b[0m\u001b[0;34m\u001b[0m\u001b[0m\n\u001b[1;32m      2\u001b[0m \u001b[0mssls\u001b[0m\u001b[0;34m=\u001b[0m\u001b[0mall_wards\u001b[0m\u001b[0;34m[\u001b[0m\u001b[0;34m'ssl'\u001b[0m\u001b[0;34m]\u001b[0m\u001b[0;34m\u001b[0m\u001b[0m\n\u001b[0;32m----> 3\u001b[0;31m \u001b[0mmapSave\u001b[0m\u001b[0;34m(\u001b[0m\u001b[0mgetFeatures\u001b[0m\u001b[0;34m,\u001b[0m\u001b[0mssls\u001b[0m\u001b[0;34m,\u001b[0m\u001b[0;34m\"features.csv\"\u001b[0m\u001b[0;34m)\u001b[0m\u001b[0;34m\u001b[0m\u001b[0m\n\u001b[0m",
      "\u001b[0;32m<ipython-input-1-d72f20c61d69>\u001b[0m in \u001b[0;36mmapSave\u001b[0;34m(f, ssls, filename, chunk_size, resume)\u001b[0m\n\u001b[1;32m    116\u001b[0m         \u001b[0mpd\u001b[0m\u001b[0;34m.\u001b[0m\u001b[0mconcat\u001b[0m\u001b[0;34m(\u001b[0m\u001b[0mdfs\u001b[0m\u001b[0;34m,\u001b[0m\u001b[0mignore_index\u001b[0m\u001b[0;34m=\u001b[0m\u001b[0mTrue\u001b[0m\u001b[0;34m)\u001b[0m\u001b[0;34m.\u001b[0m\u001b[0mto_csv\u001b[0m\u001b[0;34m(\u001b[0m\u001b[0mfilename\u001b[0m\u001b[0;34m,\u001b[0m\u001b[0mindex\u001b[0m\u001b[0;34m=\u001b[0m\u001b[0mFalse\u001b[0m\u001b[0;34m)\u001b[0m\u001b[0;34m\u001b[0m\u001b[0m\n\u001b[1;32m    117\u001b[0m         \u001b[0mi\u001b[0m \u001b[0;34m+=\u001b[0m \u001b[0;36m1\u001b[0m\u001b[0;34m\u001b[0m\u001b[0m\n\u001b[0;32m--> 118\u001b[0;31m         \u001b[0mchunk\u001b[0m \u001b[0;34m=\u001b[0m \u001b[0mobj\u001b[0m\u001b[0;34m[\u001b[0m\u001b[0mi\u001b[0m\u001b[0;34m*\u001b[0m\u001b[0mchunk_size\u001b[0m\u001b[0;34m:\u001b[0m\u001b[0;34m(\u001b[0m\u001b[0mi\u001b[0m\u001b[0;34m+\u001b[0m\u001b[0;36m1\u001b[0m\u001b[0;34m)\u001b[0m\u001b[0;34m*\u001b[0m\u001b[0mchunk_size\u001b[0m\u001b[0;34m]\u001b[0m\u001b[0;34m\u001b[0m\u001b[0m\n\u001b[0m\u001b[1;32m    119\u001b[0m \u001b[0;34m\u001b[0m\u001b[0m\n\u001b[1;32m    120\u001b[0m \u001b[0;32mclass\u001b[0m \u001b[0mStatus\u001b[0m\u001b[0;34m(\u001b[0m\u001b[0mobject\u001b[0m\u001b[0;34m)\u001b[0m\u001b[0;34m:\u001b[0m\u001b[0;34m\u001b[0m\u001b[0m\n",
      "\u001b[0;31mNameError\u001b[0m: global name 'obj' is not defined"
     ]
    }
   ],
   "source": [
    "all_wards = pd.read_csv(\"sales.csv\")\n",
    "ssls=all_wards['ssl']\n",
    "mapSave(getFeatures,ssls,\"features.csv\")    "
   ]
  },
  {
   "cell_type": "code",
   "execution_count": null,
   "metadata": {
    "collapsed": false
   },
   "outputs": [],
   "source": [
    "all_wards = pd.read_csv(\"sales.csv\")\n",
    "ssls=all_wards['ssl']\n",
    "mapSave(getDetails,ssls,\"details.csv\")    "
   ]
  },
  {
   "cell_type": "code",
   "execution_count": null,
   "metadata": {
    "collapsed": false
   },
   "outputs": [],
   "source": []
  }
 ],
 "metadata": {
  "anaconda-cloud": {},
  "kernelspec": {
   "display_name": "Python [Root]",
   "language": "python",
   "name": "Python [Root]"
  },
  "language_info": {
   "codemirror_mode": {
    "name": "ipython",
    "version": 2
   },
   "file_extension": ".py",
   "mimetype": "text/x-python",
   "name": "python",
   "nbconvert_exporter": "python",
   "pygments_lexer": "ipython2",
   "version": "2.7.12"
  }
 },
 "nbformat": 4,
 "nbformat_minor": 0
}
